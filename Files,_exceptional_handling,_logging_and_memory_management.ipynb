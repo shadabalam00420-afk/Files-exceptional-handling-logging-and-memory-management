{
  "nbformat": 4,
  "nbformat_minor": 0,
  "metadata": {
    "colab": {
      "provenance": []
    },
    "kernelspec": {
      "name": "python3",
      "display_name": "Python 3"
    },
    "language_info": {
      "name": "python"
    }
  },
  "cells": [
    {
      "cell_type": "markdown",
      "source": [
        "# Files, exceptional handling, logging and memory management\n",
        "\n"
      ],
      "metadata": {
        "id": "2txY7AsJEUeH"
      }
    },
    {
      "cell_type": "markdown",
      "source": [
        "#1 What is the difference between interpreted and compiled languages?\n",
        "   \n",
        "\n",
        "* **Compiled language**: Code is translated into machine code **before running** → runs **faster**. (e.g., C, C++)\n",
        "* **Interpreted language**: Code is translated **while running, line by line** → runs **slower but flexible**. (e.g., Python, JavaScript)\n",
        "\n",
        "     Compiled = fast, needs compilation.\n",
        "\n",
        "     Interpreted = slower, runs directly with interpreter.\n",
        "\n",
        "#2  What is exception handling in Python?\n",
        " - Exception handling in Python is a way to **catch and handle errors** so the program doesn’t crash.\n",
        "It uses:\n",
        "\n",
        "* `try` → code that may cause error\n",
        "* `except` → handle the error\n",
        "* `else` → runs if no error\n",
        "* `finally` → always runs\n",
        "\n",
        "     In short: it’s for managing errors safely.\n",
        "\n",
        "#3 What is the purpose of the finally block in exception handling?\n",
        "   - The **`finally` block** is used to run code **always**, no matter if an exception occurs or not — usually for cleanup tasks (like closing files or releasing resources).\n",
        "\n",
        "#4 What is logging in Python?\n",
        "   - Logging in Python is a way to **record messages** (like errors, warnings, or info) while a program runs, mainly for **debugging and tracking**. It uses the built-in **`logging` module**.\n",
        "\n",
        "#5 What is the significance of the __del__ method in Python?\n",
        "  - The **`__del__` method** in Python is a **destructor** that is called automatically when an object is about to be destroyed, usually used to release resources (like closing files or connections).\n",
        "\n",
        "#6 What is the difference between import and from ... import in Python?\n",
        "   - * **`import module`** → Imports the whole module; use with prefix.\n",
        "\n",
        "     import math\n",
        "     print(math.sqrt(16))\n",
        "\n",
        "* **`from module import name`** →    Imports specific part; use directly.\n",
        "\n",
        "  from math import sqrt\n",
        "  print(sqrt(16))\n",
        "\n",
        "     **Difference**: `import` brings the **whole module**, `from ... import` brings **specific items**.\n",
        "\n",
        "\n",
        "#7 How can you handle multiple exceptions in Python?\n",
        "  -Python allows handling **multiple exceptions** in a single `try` block.\n",
        "\n",
        "* You can use **separate `except` blocks** for each exception type.\n",
        "* Or, you can use a **single `except` block with a tuple** of exceptions.\n",
        "\n",
        "     This ensures that the program can respond **differently to different errors** or handle several errors in the same way.\n",
        "\n",
        "\n",
        "#8 What is the purpose of the with statement when handling files in Python?\n",
        "   - The **`with` statement** ensures a file is **automatically closed** after use, even if an error occurs — making file handling cleaner and safer.\n",
        "\n",
        "\n",
        "#9 What is the difference between multithreading and multiprocessing?\n",
        "  - *Multithreading** → Multiple threads share the **same memory**, good for I/O tasks.\n",
        "* **Multiprocessing** → Multiple processes with **separate memory**, good for CPU-heavy tasks.\n",
        "\n",
        "#10 What are the advantages of using logging in a program?\n",
        "   - Advantages of logging:\n",
        "\n",
        "* Tracks program flow\n",
        "* Helps debug errors\n",
        "* Stores runtime info\n",
        "* Better than print (flexible levels & output options)\n",
        "\n",
        "#11  What is memory management in Python?\n",
        "- Memory management in Python is the process of **allocating and freeing memory automatically** using a **private heap space** and **garbage collector**.\n",
        "\n",
        "#12 What are the basic steps involved in exception handling in Python?\n",
        " - Basic steps in exception handling:\n",
        "\n",
        "1. **try** → code that may cause error\n",
        "2. **except** → handle the error\n",
        "3. **else** → runs if no error\n",
        "4. **finally** → always runs\n",
        "\n",
        "\n",
        "#13 Why is memory management important in Python?\n",
        " - Memory management is important in Python to **optimize performance**, **prevent memory leaks**, and ensure **efficient use of resources**.\n",
        "\n",
        "\n",
        "#14 What is the role of try and except in exception handling?\n",
        "* **try** → holds code that might cause an error.\n",
        "* **except** → handles the error if it occurs.\n",
        "\n",
        "#15 How does Python's garbage collection system work?\n",
        "  - Python’s garbage collector works by using **reference counting** and a **cyclic garbage collector** to automatically free memory occupied by objects no longer in use.\n",
        "\n",
        "#16 What is the purpose of the else block in exception handling?\n",
        "  - The else block runs only if no exception occurs in the try block, allowing code to execute when everything goes smoothly.\n",
        "\n",
        "#17 What are the common logging levels in Python?\n",
        "  - Logging levels in Python: DEBUG, INFO, WARNING, ERROR, CRITICAL, used to classify and control message importance.\n",
        "\n",
        "#18 What is the difference between os.fork() and multiprocessing in Python?\n",
        "  - os.fork() creates child processes at OS level, platform-dependent; multiprocessing provides cross-platform process creation with more features.\n",
        "\n",
        "#19 What is the importance of closing a file in Python?\n",
        "  - Closing a file releases system resources and ensures data is properly saved to disk.\n",
        "\n",
        "#20  What is the difference between file.read() and file.readline() in Python?\n",
        "  - file.read() reads the entire file, file.readline() reads one line at a time.\n",
        "\n",
        "#21 What is the logging module in Python used for?\n",
        "  - The logging module records runtime messages, helping in debugging, monitoring, and tracing program execution.\n",
        "\n",
        "#22 What is the os module in Python used for in file handling?\n",
        "  - The os module handles file and directory operations, like paths, creation, deletion, and permissions.\n",
        "\n",
        "#23 What are the challenges associated with memory management in Python?\n",
        "  - Memory management challenges: memory leaks, cyclic references, high memory usage, requiring efficient garbage collection.\n",
        "\n",
        "#24 How do you raise an exception manually in Python?\n",
        "  - Raise exceptions manually using raise Exception(\"message\") to indicate errors intentionally in code.\n",
        "  \n",
        "#25  Why is it important to use multithreading in certain applications?\n",
        "  - Multithreading is important for I/O-bound tasks, allowing parallel execution and improving program responsiveness."
      ],
      "metadata": {
        "id": "XG511-qIF4gw"
      }
    },
    {
      "cell_type": "code",
      "execution_count": 1,
      "metadata": {
        "id": "ZcZqVq7PEN6k"
      },
      "outputs": [],
      "source": [
        "# Practical Questions."
      ]
    },
    {
      "cell_type": "code",
      "source": [
        "#1 How can you open a file for writing in Python and write a string to it?\n",
        "with open(\"file1.txt\", \"w\") as f:\n",
        "    f.write(\"Hello, Python!\\n\")"
      ],
      "metadata": {
        "id": "88NKFg9tNGuq"
      },
      "execution_count": 5,
      "outputs": []
    },
    {
      "cell_type": "code",
      "source": [
        "#2 Write a Python program to read the contents of a file and print each line.\n",
        "with open(\"file1.txt\", \"r\") as f:\n",
        "    for line in f:\n",
        "        print(line)"
      ],
      "metadata": {
        "colab": {
          "base_uri": "https://localhost:8080/"
        },
        "id": "_pUX5FtbNGhR",
        "outputId": "1ff1040c-2425-4ef0-fe83-08680f61579c"
      },
      "execution_count": 6,
      "outputs": [
        {
          "output_type": "stream",
          "name": "stdout",
          "text": [
            "Hello, Python!\n",
            "\n"
          ]
        }
      ]
    },
    {
      "cell_type": "code",
      "source": [
        "#3 How would you handle a case where the file doesn't exist while trying to open it for reading?\n",
        "try:\n",
        "    with open(\"filename.txt\", \"r\") as f:\n",
        "        content = f.read()\n",
        "except FileNotFoundError:\n",
        "    print(\"File does not exist!\")\n"
      ],
      "metadata": {
        "colab": {
          "base_uri": "https://localhost:8080/"
        },
        "id": "X3OvCaIcOiKh",
        "outputId": "34f58529-41f6-4b8e-f109-b0546fd7bbf6"
      },
      "execution_count": 13,
      "outputs": [
        {
          "output_type": "stream",
          "name": "stdout",
          "text": [
            "File does not exist!\n"
          ]
        }
      ]
    },
    {
      "cell_type": "code",
      "source": [
        "#4 Write a Python script that reads from one file and writes its content to another file.\n",
        "with open(\"file1.txt\", \"r\") as f1:\n",
        "    content = f1.read()\n",
        "with open(\"file2.txt\", \"w\") as f2:\n",
        "    f2.write(content)"
      ],
      "metadata": {
        "id": "BJ28zZ2oPRF7"
      },
      "execution_count": 14,
      "outputs": []
    },
    {
      "cell_type": "code",
      "source": [
        " How would you catch and handle division by zero error in Python?\n",
        "try:\n",
        "    result = 10 / 0\n",
        "except ZeroDivisionError:\n",
        "    print(\"Cannot divide by zero!\")"
      ],
      "metadata": {
        "colab": {
          "base_uri": "https://localhost:8080/"
        },
        "id": "l5_7P8hMPWbw",
        "outputId": "f4ddddbd-8fb4-4193-d14f-304bc1fefce4"
      },
      "execution_count": 16,
      "outputs": [
        {
          "output_type": "stream",
          "name": "stdout",
          "text": [
            "Object `Python` not found.\n",
            "Cannot divide by zero!\n"
          ]
        }
      ]
    },
    {
      "cell_type": "code",
      "source": [
        "#6  Write a Python program that logs an error message to a log file when a division by zero exception occurs.\n",
        "import logging\n",
        "logging.basicConfig(filename=\"error.log\", level=logging.ERROR)\n",
        "try:\n",
        "    x = 5 / 0\n",
        "except ZeroDivisionError as e:\n",
        "    logging.error(\"Division by zero occurred: %s\", e)"
      ],
      "metadata": {
        "colab": {
          "base_uri": "https://localhost:8080/"
        },
        "id": "poL5Hg87Ply1",
        "outputId": "05b38240-b509-4cc1-f0c1-0e944c60664a"
      },
      "execution_count": 17,
      "outputs": [
        {
          "output_type": "stream",
          "name": "stderr",
          "text": [
            "ERROR:root:Division by zero occurred: division by zero\n"
          ]
        }
      ]
    },
    {
      "cell_type": "code",
      "source": [
        " #7 How do you log information at different levels (INFO, ERROR, WARNING) in Python using the logging module?\n",
        "logging.info(\"This is info message\")\n",
        "logging.warning(\"This is warning message\")\n",
        "logging.error(\"This is error message\")"
      ],
      "metadata": {
        "colab": {
          "base_uri": "https://localhost:8080/"
        },
        "id": "ikBxBd4dPtyD",
        "outputId": "683428b8-9c24-4331-baf1-f54a5e941879"
      },
      "execution_count": 18,
      "outputs": [
        {
          "output_type": "stream",
          "name": "stderr",
          "text": [
            "WARNING:root:This is warning message\n",
            "ERROR:root:This is error message\n"
          ]
        }
      ]
    },
    {
      "cell_type": "code",
      "source": [
        "#8 Write a program to handle a file opening error using exception handling.\n",
        "try:\n",
        "    with open(\"nofile.txt\", \"r\") as f:\n",
        "        print(f.read())\n",
        "except IOError:\n",
        "    print(\"Error opening file\")\n"
      ],
      "metadata": {
        "colab": {
          "base_uri": "https://localhost:8080/"
        },
        "id": "a1xK0gSWP7FO",
        "outputId": "a725ba0f-4b7c-4a58-e1e5-0796aed3fa48"
      },
      "execution_count": 19,
      "outputs": [
        {
          "output_type": "stream",
          "name": "stdout",
          "text": [
            "Error opening file\n"
          ]
        }
      ]
    },
    {
      "cell_type": "code",
      "source": [
        "#9  How can you read a file line by line and store its content in a list in Python?\n",
        "with open(\"file1.txt\", \"r\") as f:\n",
        "    lines = f.readlines()\n",
        "print(lines)"
      ],
      "metadata": {
        "colab": {
          "base_uri": "https://localhost:8080/"
        },
        "id": "ghJCa6imQExA",
        "outputId": "3756d00b-1592-48fc-d167-f5468b62b74f"
      },
      "execution_count": 20,
      "outputs": [
        {
          "output_type": "stream",
          "name": "stdout",
          "text": [
            "['Hello, Python!\\n']\n"
          ]
        }
      ]
    },
    {
      "cell_type": "code",
      "source": [
        "#10 How can you append data to an existing file in Python?\n",
        "with open(\"file1.txt\", \"a\") as f:\n",
        "    f.write(\"Appended line\\n\")"
      ],
      "metadata": {
        "id": "mywIcrMRQKKa"
      },
      "execution_count": 21,
      "outputs": []
    },
    {
      "cell_type": "code",
      "source": [
        "#11 Write a Python program that uses a try-except block to handle an error when attempting to access a dictionary key that doesn't exist.\n",
        "my_dict = {\"a\": 1, \"b\": 2}\n",
        "try:\n",
        "    value = my_dict[\"c\"]\n",
        "except KeyError:\n",
        "    print(\"Key not found in dictionary\")\n"
      ],
      "metadata": {
        "colab": {
          "base_uri": "https://localhost:8080/"
        },
        "id": "abMQVMQhQQQP",
        "outputId": "4e8d3618-6244-4c24-f7fb-7328c743825a"
      },
      "execution_count": 22,
      "outputs": [
        {
          "output_type": "stream",
          "name": "stdout",
          "text": [
            "Key not found in dictionary\n"
          ]
        }
      ]
    },
    {
      "cell_type": "code",
      "source": [
        "#12 Write a program that demonstrates using multiple except blocks to handle different types of exceptions.\n",
        "try:\n",
        "    x = int(\"abc\")\n",
        "    y = 5 / 0\n",
        "except ValueError:\n",
        "    print(\"ValueError occurred\")\n",
        "except ZeroDivisionError:\n",
        "    print(\"ZeroDivisionError occurred\")"
      ],
      "metadata": {
        "colab": {
          "base_uri": "https://localhost:8080/"
        },
        "id": "xOojyIw7QZzq",
        "outputId": "b41fff30-f239-4c6d-af71-a1797d1d42ef"
      },
      "execution_count": 23,
      "outputs": [
        {
          "output_type": "stream",
          "name": "stdout",
          "text": [
            "ValueError occurred\n"
          ]
        }
      ]
    },
    {
      "cell_type": "code",
      "source": [
        "#13 How would you check if a file exists before attempting to read it in Python?\n",
        "import os\n",
        "if os.path.exists(\"file1.txt\"):\n",
        "    with open(\"file1.txt\", \"r\") as f:\n",
        "        print(f.read())"
      ],
      "metadata": {
        "colab": {
          "base_uri": "https://localhost:8080/"
        },
        "id": "1IGL0cp8QktE",
        "outputId": "54ccf594-7bd1-45ab-d0d8-8025cd2d447a"
      },
      "execution_count": 24,
      "outputs": [
        {
          "output_type": "stream",
          "name": "stdout",
          "text": [
            "Hello, Python!\n",
            "Appended line\n",
            "\n"
          ]
        }
      ]
    },
    {
      "cell_type": "code",
      "source": [
        "#14 Write a program that uses the logging module to log both informational and error messages.\n",
        "logging.basicConfig(filename=\"app.log\", level=logging.INFO)\n",
        "logging.info(\"Informational message\")\n",
        "logging.error(\"Error message\")"
      ],
      "metadata": {
        "colab": {
          "base_uri": "https://localhost:8080/"
        },
        "id": "wZCd_QoSQvtD",
        "outputId": "0c00b66a-0d29-4815-91ee-c3fc137c876e"
      },
      "execution_count": 25,
      "outputs": [
        {
          "output_type": "stream",
          "name": "stderr",
          "text": [
            "ERROR:root:Error message\n"
          ]
        }
      ]
    },
    {
      "cell_type": "code",
      "source": [
        "#15 Write a Python program that prints the content of a file and handles the case when the file is empty.\n",
        "with open(\"file1.txt\", \"r\") as f:\n",
        "    content = f.read()\n",
        "if content:\n",
        "    print(content)\n",
        "else:\n",
        "    print(\"File is empty\")"
      ],
      "metadata": {
        "colab": {
          "base_uri": "https://localhost:8080/"
        },
        "id": "5HzAhfWeQ96F",
        "outputId": "c93090e6-0a0b-4cb1-da7c-b77e240b8a4c"
      },
      "execution_count": 26,
      "outputs": [
        {
          "output_type": "stream",
          "name": "stdout",
          "text": [
            "Hello, Python!\n",
            "Appended line\n",
            "\n"
          ]
        }
      ]
    },
    {
      "cell_type": "code",
      "source": [
        "#16  Demonstrate how to use memory profiling to check the memory usage of a small program.\n",
        "import tracemalloc\n",
        "tracemalloc.start()\n",
        "lst = [x*x for x in range(1000)]\n",
        "current, peak = tracemalloc.get_traced_memory()\n",
        "print(f\"Current memory: {current}, Peak memory: {peak}\")\n",
        "tracemalloc.stop()"
      ],
      "metadata": {
        "colab": {
          "base_uri": "https://localhost:8080/"
        },
        "id": "nj912pZiRGUI",
        "outputId": "462d73be-8f9f-4729-9a1a-75bc68a34e6a"
      },
      "execution_count": 27,
      "outputs": [
        {
          "output_type": "stream",
          "name": "stdout",
          "text": [
            "Current memory: 41369, Peak memory: 59998\n"
          ]
        }
      ]
    },
    {
      "cell_type": "code",
      "source": [
        "#17 Write a Python program to create and write a list of numbers to a file, one number per line.\n",
        "with open(\"numbers.txt\", \"w\") as f:\n",
        "    for i in range(1, 11):\n",
        "        f.write(str(i) + \"\\n\")"
      ],
      "metadata": {
        "id": "_bdIY1YaRO8m"
      },
      "execution_count": 29,
      "outputs": []
    },
    {
      "cell_type": "code",
      "source": [
        "#18 How would you implement a basic logging setup that logs to a file with rotation after 1MB?\n",
        "from logging.handlers import RotatingFileHandler\n",
        "handler = RotatingFileHandler(\"rotating.log\", maxBytes=1_000_000, backupCount=3)\n",
        "logger = logging.getLogger(\"RotatingLogger\")\n",
        "logger.setLevel(logging.INFO)\n",
        "logger.addHandler(handler)\n",
        "logger.info(\"This is a log message\")"
      ],
      "metadata": {
        "colab": {
          "base_uri": "https://localhost:8080/"
        },
        "id": "axo-_MK5RVAB",
        "outputId": "1bad8f0b-2d07-4b95-df6b-fb31bd70209b"
      },
      "execution_count": 30,
      "outputs": [
        {
          "output_type": "stream",
          "name": "stderr",
          "text": [
            "INFO:RotatingLogger:This is a log message\n"
          ]
        }
      ]
    },
    {
      "cell_type": "code",
      "source": [
        "#19 Write a program that handles both IndexError and KeyError using a try-except block.\n",
        "my_list = [1, 2]\n",
        "my_dict = {}\n",
        "try:\n",
        "    print(my_list[5])\n",
        "    print(my_dict[\"key\"])\n",
        "except IndexError:\n",
        "    print(\"IndexError occurred\")\n",
        "except KeyError:\n",
        "    print(\"KeyError occurred\")"
      ],
      "metadata": {
        "colab": {
          "base_uri": "https://localhost:8080/"
        },
        "id": "-EfzppqHRd7F",
        "outputId": "5ef9d9aa-a210-45eb-f378-e83fc94023ae"
      },
      "execution_count": 31,
      "outputs": [
        {
          "output_type": "stream",
          "name": "stdout",
          "text": [
            "IndexError occurred\n"
          ]
        }
      ]
    },
    {
      "cell_type": "code",
      "source": [
        "#20 How would you open a file and read its contents using a context manager in Python?\n",
        "with open(\"file1.txt\", \"r\") as f:\n",
        "    print(f.read())"
      ],
      "metadata": {
        "colab": {
          "base_uri": "https://localhost:8080/"
        },
        "id": "kDAyauCeRmhb",
        "outputId": "d918a1ae-631a-402e-9c73-25182a414010"
      },
      "execution_count": 32,
      "outputs": [
        {
          "output_type": "stream",
          "name": "stdout",
          "text": [
            "Hello, Python!\n",
            "Appended line\n",
            "\n"
          ]
        }
      ]
    },
    {
      "cell_type": "code",
      "source": [
        "#21 Write a Python program that reads a file and prints the number of occurrences of a specific word.\n",
        "with open(\"file1.txt\", \"r\") as f:\n",
        "    content = f.read()\n",
        "word = \"Python\"\n",
        "count = content.count(word)\n",
        "print(f\"The word '{word}' appears {count} times in the file.\")"
      ],
      "metadata": {
        "colab": {
          "base_uri": "https://localhost:8080/"
        },
        "id": "38BuFvQnRwuX",
        "outputId": "e74a2076-d0f8-4405-b83d-dfdfe9694b0f"
      },
      "execution_count": 33,
      "outputs": [
        {
          "output_type": "stream",
          "name": "stdout",
          "text": [
            "The word 'Python' appears 1 times in the file.\n"
          ]
        }
      ]
    },
    {
      "cell_type": "code",
      "source": [
        "#22 How can you check if a file is empty before attempting to read its contents?\n",
        "with open(\"file1.txt\", \"r\") as f:\n",
        "    content = f.read()\n",
        "if content:\n",
        "    print(content)\n",
        "else:\n",
        "    print(\"File is empty\")"
      ],
      "metadata": {
        "colab": {
          "base_uri": "https://localhost:8080/"
        },
        "id": "qzbAGNpRR2h_",
        "outputId": "3b83d40f-8e5f-4031-fa3d-8f1e5934834d"
      },
      "execution_count": 34,
      "outputs": [
        {
          "output_type": "stream",
          "name": "stdout",
          "text": [
            "Hello, Python!\n",
            "Appended line\n",
            "\n"
          ]
        }
      ]
    },
    {
      "cell_type": "code",
      "source": [
        "#23 Write a Python program that writes to a log file when an error occurs during file handling.\n",
        "try:\n",
        "    with open(\"nofile.txt\", \"r\") as f:\n",
        "        f.read()\n",
        "except Exception as e:\n",
        "    logging.error(\"File handling error: %s\", e)"
      ],
      "metadata": {
        "colab": {
          "base_uri": "https://localhost:8080/"
        },
        "id": "IEJageh-R7S9",
        "outputId": "81458ec6-cf55-44b5-a758-26e1f7f1ee23"
      },
      "execution_count": 35,
      "outputs": [
        {
          "output_type": "stream",
          "name": "stderr",
          "text": [
            "ERROR:root:File handling error: [Errno 2] No such file or directory: 'nofile.txt'\n"
          ]
        }
      ]
    }
  ]
}